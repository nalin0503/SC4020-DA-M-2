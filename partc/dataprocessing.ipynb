{
 "cells": [
  {
   "cell_type": "code",
   "execution_count": 1,
   "metadata": {},
   "outputs": [],
   "source": [
    "import pandas as pd\n",
    "import torch \n",
    "import numpy\n",
    "\n",
    "city = 'A'\n",
    "path = f\"../Part C preprocessed data\\city{city}_red_orange.csv\"\n",
    "df = pd.read_csv(path)"
   ]
  },
  {
   "cell_type": "code",
   "execution_count": 2,
   "metadata": {},
   "outputs": [
    {
     "data": {
      "text/plain": [
       "(337, 855)"
      ]
     },
     "execution_count": 2,
     "metadata": {},
     "output_type": "execute_result"
    }
   ],
   "source": [
    "df.shape"
   ]
  },
  {
   "cell_type": "code",
   "execution_count": 3,
   "metadata": {},
   "outputs": [],
   "source": [
    "df[\"POI_Probabilities\"] = df.iloc[:,2:(2+85)].apply(lambda x: torch.tensor(x.values), axis=1)\n"
   ]
  },
  {
   "cell_type": "code",
   "execution_count": 4,
   "metadata": {},
   "outputs": [],
   "source": [
    "df['Input_features'] = df.iloc[:,(2+85):(2+85+768)].apply(lambda x: torch.tensor(x.values), axis=1)"
   ]
  },
  {
   "cell_type": "code",
   "execution_count": 5,
   "metadata": {},
   "outputs": [],
   "source": [
    "sequences = pd.read_parquet(r\"..\\results_PartB\\output_kotae\\frequent_sequences_20241115_231831.parquet\")\n",
    "\n"
   ]
  },
  {
   "cell_type": "code",
   "execution_count": 11,
   "metadata": {},
   "outputs": [
    {
     "name": "stdout",
     "output_type": "stream",
     "text": [
      "101, 103\n"
     ]
    }
   ],
   "source": [
    "import os\n",
    "\n",
    "txt_file = r\"..\\results_PartB\\output_kumamoto\\frequent_sequences_all_20241115_183209.txt\"\n",
    "\n",
    "\"\"\"\n",
    "file format is like this:\n",
    "\n",
    "Sequence: [(101, 104)], Support: 2305\n",
    "Sequence: [(104, 111)], Support: 2249\n",
    "Sequence: [(93, 98)], Support: 2206\n",
    "Sequence: [(97, 100)], Support: 2200\n",
    "Sequence: [(102, 110)], Support: 2200\n",
    "\"\"\"\n",
    "\n",
    "with open(txt_file, 'r') as file:\n",
    "    lines = file.readlines()\n",
    "    for line in lines:\n",
    "        # Extract the sequence\n",
    "        sequence = line.split('[(')[1].split(')]')[0]\n",
    "        \n",
    "        print(sequence)\n",
    "        break"
   ]
  },
  {
   "cell_type": "code",
   "execution_count": null,
   "metadata": {},
   "outputs": [],
   "source": []
  }
 ],
 "metadata": {
  "kernelspec": {
   "display_name": "Python 3",
   "language": "python",
   "name": "python3"
  },
  "language_info": {
   "codemirror_mode": {
    "name": "ipython",
    "version": 3
   },
   "file_extension": ".py",
   "mimetype": "text/x-python",
   "name": "python",
   "nbconvert_exporter": "python",
   "pygments_lexer": "ipython3",
   "version": "3.9.1"
  }
 },
 "nbformat": 4,
 "nbformat_minor": 2
}
